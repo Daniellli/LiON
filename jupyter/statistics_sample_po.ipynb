{
 "cells": [
  {
   "cell_type": "code",
   "execution_count": 2,
   "metadata": {},
   "outputs": [],
   "source": [
    "import os  \n",
    "from os.path import join, split, exists,dirname\n",
    "import numpy as np\n",
    "import sys \n",
    "import matplotlib.pyplot as plt\n",
    "import math\n",
    "\n",
    "\n",
    "\n",
    "from matplotlib.ticker import ScalarFormatter\n",
    "import yaml\n",
    "\n",
    "sys.path.append(dirname(os.getcwd()))\n",
    "\n",
    "from tqdm import  tqdm\n",
    "%matplotlib inline\n",
    "os.chdir(dirname(os.getcwd()))\n",
    "\n",
    "from risk_coverage_curve_utils.risk_coverage_curve_aupr_auroc_ploter import *"
   ]
  },
  {
   "cell_type": "code",
   "execution_count": 3,
   "metadata": {},
   "outputs": [],
   "source": [
    "# \n",
    "\n",
    "\n",
    "\n",
    "\n",
    "# def bar_AB(score_A,score_B,label_A,label_B,title='Unknown class points',save_name = None):\n",
    "\n",
    "#     # 计算每个区间内的元素数量\n",
    "#     bins = np.arange(0, 1.05, 0.1)\n",
    "#     hist, _ = np.histogram(score_A, bins=bins)\n",
    "#     hist2, _ = np.histogram(score_B, bins=bins)\n",
    "\n",
    "#     # 绘制柱状图\n",
    "#     # bin_width = 1 / bins.shape[0]\n",
    "#     bin_width = 0.1\n",
    "#     fig, ax = plt.subplots()\n",
    "#     ax.bar(bins[:-1] + 0.05 , hist, width=bin_width,label=label_A)\n",
    "#     ax.bar(bins[:-1] + 0.05 , hist2, width=bin_width,label=label_B,color='#ff7410A0')\n",
    "    \n",
    "    \n",
    "\n",
    "#     ax.set_yscale('log')\n",
    "#     ax.set_ylim([1e+4, 1e+9])\n",
    "#     # print(bins)\n",
    "#     ax.set_xticks(bins)\n",
    "\n",
    "\n",
    "#     ax.legend()\n",
    "#     ax.set_title(title)\n",
    "\n",
    "#     ax.set_xlabel('Score of unknown class')\n",
    "#     ax.set_ylabel('Number')\n",
    "\n",
    "#     # ax.yaxis.set_major_formatter(ScalarFormatter(useMathText=True))\n",
    "#     # ax.yaxis.set_major_formatter(FormatStrFormatter('%g'))\n",
    "#     # formatter = ScalarFormatter(useMathText=True)\n",
    "#     # formatter.set_scientific(False)\n",
    "#     # formatter.set_scientific(True)\n",
    "#     # formatter.set_powerlimits((-1, 1))\n",
    "\n",
    "#     # 显示图像\n",
    "#     if save_name is not None :\n",
    "#         plt.savefig('%s.png'%(save_name), dpi=500,bbox_inches='tight')\n",
    "#     else:\n",
    "#         plt.show()\n",
    "\n",
    "#     index_0_01 = bins.tolist().index(0)\n",
    "#     index_01_02 = bins.tolist().index(0.1)\n",
    "#     return hist[index_0_01],hist2[index_0_01],hist[index_01_02],hist2[index_01_02]\n",
    "\n",
    "def bar_AB(score_A,score_B,label_A,label_B,title='Unknown class points',save_name = None):\n",
    "\n",
    "    # 计算每个区间内的元素数量\n",
    "    bins = np.arange(0, 1.05, 0.1)\n",
    "    hist, _ = np.histogram(score_A, bins=bins)\n",
    "    hist2, _ = np.histogram(score_B, bins=bins)\n",
    "\n",
    "    # 绘制柱状图\n",
    "    # bin_width = 1 / bins.shape[0]\n",
    "    bin_width = 0.1\n",
    "    # bin_offset = bin_width * 0.2\n",
    "    fig, ax = plt.subplots()\n",
    "    alpha = 0.7\n",
    "    # ax.bar(bins[:-1]+ 0.05, hist, width=bin_width,label=label_A,color='#5E3359',alpha=0.3)#FDCB5A'color='#5E3359',alpha=0.3\n",
    "    # ax.bar(bins[:-1]+ 0.05, hist2, width=bin_width,label=label_B,color='#FDCB5A',alpha=alpha)#color='#FDCB5A',alpha=alpha\n",
    "    ax.bar(bins[:-1]+ 0.05, hist, width=bin_width,label=label_A,color='#FFB6C1',alpha=alpha)#FDCB5A'color='#5E3359',alpha=0.3\n",
    "    ax.bar(bins[:-1]+ 0.05, hist2, width=bin_width,label=label_B,color='#87CEFA',alpha=alpha)#color='#FDCB5A',alpha=alpha\n",
    "\n",
    "    ax.set_yscale('log')\n",
    "    ax.set_ylim([1e+4, 1e+9])#in\n",
    "    # ax.set_ylim([1e+4, 1e+7])#out\n",
    "    # print(bins)\n",
    "    # ax.set_xticks(bins)\n",
    "    ax.set_xlim(0, max(bins)) \n",
    "\n",
    "\n",
    "    ax.legend()\n",
    "    ax.set_title(title)\n",
    "\n",
    "    ax.set_xlabel('Score of unknown class')\n",
    "    ax.set_ylabel('Number')\n",
    "\n",
    "    # ax.yaxis.set_major_formatter(ScalarFormatter(useMathText=True))\n",
    "    # ax.yaxis.set_major_formatter(FormatStrFormatter('%g'))\n",
    "    # formatter = ScalarFormatter(useMathText=True)\n",
    "    # formatter.set_scientific(False)\n",
    "    # formatter.set_scientific(True)\n",
    "    # formatter.set_powerlimits((-1, 1))\n",
    "\n",
    "    # 显示图像\n",
    "    if save_name is not None :\n",
    "        plt.savefig('%s.png'%(save_name), dpi=500,bbox_inches='tight')\n",
    "    else:\n",
    "        plt.show()\n",
    "\n",
    "    index_0_01 = bins.tolist().index(0)\n",
    "    index_01_02 = bins.tolist().index(0.1)\n",
    "    return hist[index_0_01],hist2[index_0_01],hist[index_01_02],hist2[index_01_02]\n",
    "\n",
    "\n",
    "\n",
    "\n",
    "# kitti_aupr45_ploter = RiskCoveragePloter('/home/DISCOVER_summer2022/xusc/exp/openset_anomaly_detection/runs/backup/kitti_aupr45/coverage_VS_err_aupr_auroc1.csv')\n",
    "# ce_cce_s_ploter = RiskCoverageCurveAUPRAUROCPloter('/home/DISCOVER_summer2022/xusc/exp/openset_anomaly_detection/runs/model_archive/real_ablation/ce#cce#s#aupr23#ep1/coverage_VS_err_aupr_auroc1.csv')\n",
    "# energy_abstain_ploter = RiskCoverageCurveAUPRAUROCPloter('/home/DISCOVER_summer2022/xusc/exp/openset_anomaly_detection/runs/model_archive/main_contribution_ablation/energy#abstein#aupr41#ep34/energy#abstein#aupr41#ep34/coverage_VS_err_aupr_auroc1.csv')\n",
    "# energy_abstain_S_ploter = RiskCoverageCurveAUPRAUROCPloter('/home/DISCOVER_summer2022/xusc/exp/openset_anomaly_detection/runs/model_archive/main_contribution_ablation/energy#abstain#S#aupr43#ep34/energy#abstain#S#aupr43#ep34/coverage_VS_err_aupr_auroc1.csv')\n",
    "# energy_abstein_S_dynamic_ploter = RiskCoverageCurveAUPRAUROCPloter('/home/DISCOVER_summer2022/xusc/exp/openset_anomaly_detection/runs/model_archive/main_contribution_ablation/energy#abstein#S#dynamic#aupr44#ep34/energy#abstein#S#dynamic#aupr44#ep34/coverage_VS_err_aupr_auroc1.csv')\n",
    "\n",
    "\n",
    "\n",
    "\n",
    "ce_ploter = RiskCoverageCurveAUPRAUROCPloter('/home/DISCOVER_summer2022/xusc/exp/openset_anomaly_detection/runs/model_archive/real_ablation/ce#aupr24#ep11/coverage_VS_err_aupr_auroc1.csv')\n",
    "ce_cce_ploter = RiskCoverageCurveAUPRAUROCPloter('/home/DISCOVER_summer2022/xusc/exp/openset_anomaly_detection/runs/model_archive/real_ablation/ce#cce#aupr21#ep4/coverage_VS_err_aupr_auroc1.csv')\n",
    "\n",
    "\n"
   ]
  },
  {
   "cell_type": "code",
   "execution_count": 4,
   "metadata": {},
   "outputs": [
    {
     "data": {
      "text/plain": [
       "(7149011, 8916954, 1324419, 348199)"
      ]
     },
     "execution_count": 4,
     "metadata": {},
     "output_type": "execute_result"
    },
    {
     "data": {
      "image/png": "[encoded data removed]",
      "text/plain": [
       "<Figure size 640x480 with 1 Axes>"
      ]
     },
     "metadata": {},
     "output_type": "display_data"
    }
   ],
   "source": [
    "bar_AB(ce_cce_ploter.ood_score,ce_ploter.ood_score,'CE&CCE','CE',save_name='ce&cce_vs_ce_ood',title='Outlier samples')"
   ]
  },
  {
   "cell_type": "code",
   "execution_count": 9,
   "metadata": {},
   "outputs": [],
   "source": [
    "bar_AB(ce_cce_ploter.id_score,ce_ploter.id_score,'CE&CCE','CE',title='Inlier samples',save_name='ce&cce_vs_ce_id')\n",
    "\n"
   ]
  },
  {
   "cell_type": "code",
   "execution_count": 13,
   "metadata": {},
   "outputs": [],
   "source": [
    "totol_number = ce_cce_ploter.ood_score.shape[0] +  ce_cce_ploter.id_score.shape[0]"
   ]
  },
  {
   "cell_type": "code",
   "execution_count": 14,
   "metadata": {},
   "outputs": [
    {
     "data": {
      "text/plain": [
       "484883405"
      ]
     },
     "execution_count": 14,
     "metadata": {},
     "output_type": "execute_result"
    }
   ],
   "source": [
    "totol_number"
   ]
  },
  {
   "cell_type": "code",
   "execution_count": 18,
   "metadata": {},
   "outputs": [
    {
     "data": {
      "text/plain": [
       "1430996"
      ]
     },
     "execution_count": 18,
     "metadata": {},
     "output_type": "execute_result"
    }
   ],
   "source": []
  },
  {
   "cell_type": "code",
   "execution_count": 21,
   "metadata": {},
   "outputs": [
    {
     "data": {
      "text/plain": [
       "2536862"
      ]
     },
     "execution_count": 21,
     "metadata": {},
     "output_type": "execute_result"
    }
   ],
   "source": [
    "((ce_ploter.id_score >0.1 ).sum() + (ce_ploter.ood_score >0.1 ).sum()) "
   ]
  },
  {
   "cell_type": "code",
   "execution_count": 22,
   "metadata": {},
   "outputs": [
    {
     "data": {
      "text/plain": [
       "484883405"
      ]
     },
     "execution_count": 22,
     "metadata": {},
     "output_type": "execute_result"
    }
   ],
   "source": [
    "((ce_ploter.id_score >0.1 ).sum() + (ce_ploter.ood_score >0.1 ).sum())  "
   ]
  },
  {
   "cell_type": "code",
   "execution_count": 23,
   "metadata": {},
   "outputs": [
    {
     "data": {
      "text/plain": [
       "0.005231901058771026"
      ]
     },
     "execution_count": 23,
     "metadata": {},
     "output_type": "execute_result"
    }
   ],
   "source": [
    "((ce_ploter.id_score >0.1 ).sum() + (ce_ploter.ood_score >0.1 ).sum())  /totol_number"
   ]
  }
 ],
 "metadata": {
  "kernelspec": {
   "display_name": "yang_real",
   "language": "python",
   "name": "python3"
  },
  "language_info": {
   "codemirror_mode": {
    "name": "ipython",
    "version": 3
   },
   "file_extension": ".py",
   "mimetype": "text/x-python",
   "name": "python",
   "nbconvert_exporter": "python",
   "pygments_lexer": "ipython3",
   "version": "3.8.13"
  },
  "orig_nbformat": 4
 },
 "nbformat": 4,
 "nbformat_minor": 2
}
