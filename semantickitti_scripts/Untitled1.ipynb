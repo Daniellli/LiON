{
 "cells": [
  {
   "cell_type": "code",
   "execution_count": 1,
   "id": "781d2232-9b38-492e-90d2-e885b515bd77",
   "metadata": {},
   "outputs": [],
   "source": [
    "import numpy as np"
   ]
  },
  {
   "cell_type": "code",
   "execution_count": 1,
   "id": "8b2dbcec-6643-49f4-9537-b7b55fe82228",
   "metadata": {},
   "outputs": [
    {
     "data": {
      "text/plain": [
       "0.7738320760461418"
      ]
     },
     "execution_count": 1,
     "metadata": {},
     "output_type": "execute_result"
    }
   ],
   "source": [
    "(0.41949 - 0.236488) / 0.236488"
   ]
  },
  {
   "cell_type": "code",
   "execution_count": 2,
   "id": "97e3d41a-d726-4407-b903-54f1097c7c57",
   "metadata": {},
   "outputs": [
    {
     "data": {
      "text/plain": [
       "0.18300199999999997"
      ]
     },
     "execution_count": 2,
     "metadata": {},
     "output_type": "execute_result"
    }
   ],
   "source": [
    "(0.41949 - 0.236488)"
   ]
  },
  {
   "cell_type": "code",
   "execution_count": 3,
   "id": "ec7b158a-da4c-48e6-ba4b-382a8e43333c",
   "metadata": {},
   "outputs": [
    {
     "data": {
      "text/plain": [
       "0.043061323928629415"
      ]
     },
     "execution_count": 3,
     "metadata": {},
     "output_type": "execute_result"
    }
   ],
   "source": [
    "(0.899098 - 0.86198) / 0.86198"
   ]
  },
  {
   "cell_type": "code",
   "execution_count": 4,
   "id": "9706e59c-037a-4b70-80b6-b5cc71474076",
   "metadata": {},
   "outputs": [
    {
     "data": {
      "text/plain": [
       "0.037117999999999984"
      ]
     },
     "execution_count": 4,
     "metadata": {},
     "output_type": "execute_result"
    }
   ],
   "source": [
    "(0.899098 - 0.86198)"
   ]
  },
  {
   "cell_type": "code",
   "execution_count": 5,
   "id": "1cbaa650-10ed-40ee-b3f4-1010446519d0",
   "metadata": {},
   "outputs": [
    {
     "data": {
      "text/plain": [
       "-0.16477468182531704"
      ]
     },
     "execution_count": 5,
     "metadata": {},
     "output_type": "execute_result"
    }
   ],
   "source": [
    "(0.4037547 - 0.483408119)/ 0.483408119"
   ]
  },
  {
   "cell_type": "code",
   "execution_count": 6,
   "id": "1e678378-0e77-4ba1-b36a-4968c9ff3a22",
   "metadata": {},
   "outputs": [
    {
     "data": {
      "text/plain": [
       "-0.079653419"
      ]
     },
     "execution_count": 6,
     "metadata": {},
     "output_type": "execute_result"
    }
   ],
   "source": [
    "(0.4037547 - 0.483408119)"
   ]
  },
  {
   "cell_type": "code",
   "execution_count": 1,
   "id": "1d5a6c84-abcc-49ab-8496-f02d1212b0d6",
   "metadata": {},
   "outputs": [],
   "source": [
    "import torch"
   ]
  },
  {
   "cell_type": "code",
   "execution_count": 4,
   "id": "1492ea71-9f4c-4247-b8f9-bd92df571def",
   "metadata": {},
   "outputs": [
    {
     "data": {
      "text/plain": [
       "tensor(30.0000)"
      ]
     },
     "execution_count": 4,
     "metadata": {},
     "output_type": "execute_result"
    }
   ],
   "source": [
    "torch.logsumexp(torch.tensor([10, 20, 30]), dim=0)"
   ]
  },
  {
   "cell_type": "code",
   "execution_count": 7,
   "id": "de7790c8-74b9-43cc-a504-b8814f9c8497",
   "metadata": {},
   "outputs": [
    {
     "data": {
      "text/plain": [
       "tensor(30.0000)"
      ]
     },
     "execution_count": 7,
     "metadata": {},
     "output_type": "execute_result"
    }
   ],
   "source": [
    "torch.log(torch.sum(torch.exp(torch.tensor([10, 20, 30]))))"
   ]
  },
  {
   "cell_type": "code",
   "execution_count": null,
   "id": "88c3a7b6-efea-4b66-9d55-9fa82005f154",
   "metadata": {},
   "outputs": [],
   "source": []
  }
 ],
 "metadata": {
  "kernelspec": {
   "display_name": "Python 3 (ipykernel)",
   "language": "python",
   "name": "python3"
  },
  "language_info": {
   "codemirror_mode": {
    "name": "ipython",
    "version": 3
   },
   "file_extension": ".py",
   "mimetype": "text/x-python",
   "name": "python",
   "nbconvert_exporter": "python",
   "pygments_lexer": "ipython3",
   "version": "3.9.13"
  }
 },
 "nbformat": 4,
 "nbformat_minor": 5
}
